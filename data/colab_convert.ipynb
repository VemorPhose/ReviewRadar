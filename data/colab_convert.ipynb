{
 "cells": [
  {
   "cell_type": "code",
   "execution_count": null,
   "id": "f8b98504",
   "metadata": {},
   "outputs": [],
   "source": [
    "# STEP 1: Install tensorflowjs\n",
    "!pip install tensorflowjs\n",
    "\n",
    "# STEP 2: Mount Google Drive (if your model is stored there — optional)\n",
    "# from google.colab import drive\n",
    "# drive.mount('/content/drive')\n",
    "\n",
    "# STEP 3: Convert the `.keras` model to TensorFlow.js format\n",
    "!tensorflowjs_converter \\\n",
    "    --input_format keras \\\n",
    "    my_model.h5 \\\n",
    "    tfjs_model\n"
   ]
  }
 ],
 "metadata": {
  "language_info": {
   "name": "python"
  }
 },
 "nbformat": 4,
 "nbformat_minor": 5
}
